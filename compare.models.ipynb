{
 "cells": [
  {
   "cell_type": "code",
   "execution_count": 1,
   "metadata": {},
   "outputs": [],
   "source": [
    "%matplotlib inline\n",
    "import matplotlib.pyplot as plt\n",
    "plt.rcParams.update({'font.size': 15, 'lines.linewidth': 3})\n",
    "tab20_colors = plt.cm.get_cmap('tab20').colors\n",
    "\n",
    "import os, pickle, torch\n",
    "import numpy as np"
   ]
  },
  {
   "cell_type": "markdown",
   "metadata": {},
   "source": [
    "# Load trained model from similarity regularization"
   ]
  },
  {
   "cell_type": "code",
   "execution_count": 2,
   "metadata": {},
   "outputs": [],
   "source": [
    "cache_dir = 'cache'\n",
    "models_dir = 'cnn_models'\n",
    "\n",
    "with open(os.path.join(models_dir, 'model.ids.pickle'), 'rb') as f:\n",
    "    catalog = pickle.load(f)"
   ]
  },
  {
   "cell_type": "code",
   "execution_count": 3,
   "metadata": {},
   "outputs": [
    {
     "name": "stdout",
     "output_type": "stream",
     "text": [
      "accuracy on clean dataset\n",
      "'none':    92.36% (0.16%)\n",
      "'neural':  89.13% (0.15%)\n",
      "'shuffle': 89.58% (0.00%)\n"
     ]
    }
   ],
   "source": [
    "print('accuracy on clean dataset')\n",
    "clean_accs = {}\n",
    "for key, model_ids in catalog.items():\n",
    "    clean_accs[key] = []\n",
    "    for model_id in model_ids:\n",
    "        saved = torch.load(os.path.join(models_dir, 'exported', f'{model_id}.pt'))\n",
    "        clean_accs[key].append(saved['accs']['test'][saved['best_epoch']])\n",
    "    if clean_accs[key]:\n",
    "        print('{:10} {:.2%} ({:.2%})'.format('\\'{}\\':'.format(key), np.mean(clean_accs[key]), np.std(clean_accs[key])/len(clean_accs[key])**0.5))"
   ]
  },
  {
   "cell_type": "markdown",
   "metadata": {},
   "source": [
    "# Test model robustness against random distortions"
   ]
  },
  {
   "cell_type": "code",
   "execution_count": 4,
   "metadata": {},
   "outputs": [
    {
     "name": "stdout",
     "output_type": "stream",
     "text": [
      "testing 5 'none' models...\n",
      "8956FAC3\n",
      "EAE1625A\n",
      "E0D869C0\n",
      "4EB279F4\n",
      "A8E8F7CD\n",
      "testing 3 'neural' models...\n",
      "4B006298\n",
      "95DEAC78\n",
      "37CB4C0A\n",
      "testing 1 'shuffle' models...\n",
      "8B29B9CA\n"
     ]
    }
   ],
   "source": [
    "from roarena.tester import test_random_distortions\n",
    "\n",
    "distortions = [\n",
    "    ('Gaussian', 0.05),\n",
    "    ('Gaussian', 0.15),\n",
    "    ('Uniform', 0.1),\n",
    "    ('Uniform', 0.3),\n",
    "    ('SaltPepper', 0.04),\n",
    "    ('SaltPepper', 0.12),\n",
    "]\n",
    "\n",
    "# test models with random distortions\n",
    "noisy_accs = {}\n",
    "for key, model_ids in catalog.items():\n",
    "    print('testing {} \\'{}\\' models...'.format(len(model_ids), key))\n",
    "    noisy_accs[key] = {}\n",
    "    for d_type, d_val in distortions:\n",
    "        noisy_accs[key][(d_type, d_val)] = []\n",
    "    for model_id in model_ids:\n",
    "        print(model_id)\n",
    "        saved = torch.load(os.path.join(models_dir, 'exported', f'{model_id}.pt'))\n",
    "        model = saved['model']\n",
    "        for d_type, d_val in distortions:\n",
    "            _, acc = test_random_distortions(\n",
    "                saved['config']['model_config']['task'], model, d_type, d_val,\n",
    "                cache_dir, benchmarks_dir='benchmarks'\n",
    "            )\n",
    "            noisy_accs[key][(d_type, d_val)].append(acc)\n",
    "\n",
    "# gather results\n",
    "accs_mean = np.full((len(catalog), len(distortions)+1), np.nan)\n",
    "accs_sem = np.full((len(catalog), len(distortions)+1), np.nan)\n",
    "catalog_keys = list(catalog.keys())\n",
    "d_labels = [f'{d_type}-{d_val}' for d_type, d_val in distortions]\n",
    "for k_idx, key in enumerate(catalog_keys):\n",
    "    if catalog[key]:\n",
    "        accs_mean[k_idx, 0] = np.mean(clean_accs[key])\n",
    "        accs_sem[k_idx, 0] = np.std(clean_accs[key])/len(clean_accs[key])**0.5\n",
    "\n",
    "        for d_idx, (d_type, d_val) in enumerate(distortions, 1):\n",
    "            accs_mean[k_idx, d_idx] = np.mean(noisy_accs[key][(d_type, d_val)])\n",
    "            accs_sem[k_idx, d_idx] = np.std(noisy_accs[key][(d_type, d_val)])/len(noisy_accs[key][(d_type, d_val)])**0.5"
   ]
  },
  {
   "cell_type": "code",
   "execution_count": 5,
   "metadata": {},
   "outputs": [
    {
     "data": {
      "image/png": "[encoded data removed]",
      "text/plain": [
       "<Figure size 864x288 with 1 Axes>"
      ]
     },
     "metadata": {
      "needs_background": "light"
     },
     "output_type": "display_data"
    }
   ],
   "source": [
    "_, ax = plt.subplots(figsize=(12, 4))\n",
    "\n",
    "width = 0.5/len(catalog)\n",
    "h_bars = []\n",
    "for k_idx, key in enumerate(catalog_keys):\n",
    "    if catalog[key]:\n",
    "        ecolor = tab20_colors[k_idx*2]\n",
    "        fcolor = tab20_colors[k_idx*2+1]\n",
    "        x = np.arange(len(distortions)+1)+(k_idx-(len(catalog)-1)/2)*width\n",
    "        h_bars.append(ax.bar(x, accs_mean[k_idx]*100, width, facecolor=fcolor))\n",
    "        ax.errorbar(x, accs_mean[k_idx]*100, accs_sem[k_idx]*100, linestyle='none', ecolor=ecolor)\n",
    "ax.set_xticks(np.arange(len(distortions)+1))\n",
    "ax.set_xticklabels(['clean']+d_labels, rotation=20)\n",
    "ax.set_ylabel('accuracy (%)')\n",
    "ax.set_ylim([0, 100])\n",
    "ax.legend(h_bars, catalog_keys)\n",
    "plt.show()"
   ]
  }
 ],
 "metadata": {
  "kernelspec": {
   "display_name": "Python 3",
   "language": "python",
   "name": "python3"
  },
  "language_info": {
   "codemirror_mode": {
    "name": "ipython",
    "version": 3
   },
   "file_extension": ".py",
   "mimetype": "text/x-python",
   "name": "python",
   "nbconvert_exporter": "python",
   "pygments_lexer": "ipython3",
   "version": "3.8.0"
  }
 },
 "nbformat": 4,
 "nbformat_minor": 4
}
