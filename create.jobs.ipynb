{
 "cells": [
  {
   "cell_type": "code",
   "execution_count": 1,
   "metadata": {},
   "outputs": [],
   "source": [
    "import os, pickle\n",
    "import numpy as np\n",
    "\n",
    "job_dir = 'save/jobs'\n",
    "if not os.path.exists(job_dir):\n",
    "    os.makedirs(job_dir)\n",
    "\n",
    "model_pths = [\n",
    "    'save/models/CIFAR10.ResNet50_base.pt',\n",
    "    'save/models/CIFAR10.ResNet50_Madry.Linf.pt',\n",
    "]"
   ]
  },
  {
   "cell_type": "code",
   "execution_count": 2,
   "metadata": {},
   "outputs": [],
   "source": [
    "corruptions = [\n",
    "    'gaussian_noise', 'shot_noise', 'impulse_noise',\n",
    "    'defocus_blur', 'glass_blur', 'motion_blur', 'zoom_blur',\n",
    "    'snow', 'frost', 'fog', 'brightness',\n",
    "    'contrast', 'elastic_transform', 'pixelate', 'jpeg_compression',\n",
    "]\n",
    "\n",
    "search_spec = {\n",
    "    'model_pth': model_pths,\n",
    "    'corruption': corruptions,\n",
    "    'severity': [1, 2, 3, 4, 5],\n",
    "}\n",
    "\n",
    "with open(os.path.join(job_dir, 'corruption_tests.pickle'), 'wb') as f:\n",
    "    pickle.dump(search_spec, f)"
   ]
  },
  {
   "cell_type": "code",
   "execution_count": 3,
   "metadata": {},
   "outputs": [],
   "source": [
    "search_spec = {\n",
    "    'model_pth': model_pths,\n",
    "    'metric': ['Linf'],\n",
    "    'name': ['BB'],\n",
    "    'is_targeted': [False, True],\n",
    "    'batch_idx': list(range(40)),\n",
    "    'seed': list(range(5)),\n",
    "}\n",
    "\n",
    "with open(os.path.join(job_dir, 'adversarial_attacks.pickle'), 'wb') as f:\n",
    "    pickle.dump(search_spec, f)"
   ]
  },
  {
   "cell_type": "code",
   "execution_count": 4,
   "metadata": {},
   "outputs": [],
   "source": [
    "search_spec = {\n",
    "    'model_pth': model_pths,\n",
    "    'k_idx': list(range(10)),\n",
    "    'l_idx': [0, 3, 6, 9, 12, 15],\n",
    "    'noise': [0.02],\n",
    "    'alpha': [0.001],\n",
    "    'lr': [0.001],\n",
    "}\n",
    "\n",
    "with open(os.path.join(job_dir, 'image_reconstructions.pickle'), 'wb') as f:\n",
    "    pickle.dump(search_spec, f)"
   ]
  },
  {
   "cell_type": "code",
   "execution_count": 5,
   "metadata": {},
   "outputs": [],
   "source": [
    "search_spec = {\n",
    "    'model_pth': model_pths,\n",
    "    'alpha': [0.05*i for i in range(20)],\n",
    "}\n",
    "\n",
    "with open(os.path.join(job_dir, 'einstein-monroe_experiments.pickle'), 'wb') as f:\n",
    "    pickle.dump(search_spec, f)"
   ]
  }
 ],
 "metadata": {
  "kernelspec": {
   "display_name": "Python 3",
   "language": "python",
   "name": "python3"
  },
  "language_info": {
   "codemirror_mode": {
    "name": "ipython",
    "version": 3
   },
   "file_extension": ".py",
   "mimetype": "text/x-python",
   "name": "python",
   "nbconvert_exporter": "python",
   "pygments_lexer": "ipython3",
   "version": "3.8.5"
  }
 },
 "nbformat": 4,
 "nbformat_minor": 4
}
