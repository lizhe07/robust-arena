{
 "cells": [
  {
   "cell_type": "code",
   "execution_count": 1,
   "metadata": {},
   "outputs": [],
   "source": [
    "import pickle"
   ]
  },
  {
   "cell_type": "code",
   "execution_count": 2,
   "metadata": {},
   "outputs": [
    {
     "name": "stdout",
     "output_type": "stream",
     "text": [
      "29 models to be tested\n"
     ]
    }
   ],
   "source": [
    "with open('sim-reg/model.ids.pickle', 'rb') as f:\n",
    "    catalog = pickle.load(f)\n",
    "export_dirs = {}\n",
    "for key in ['none', 'neural', 'shuffle']:\n",
    "    export_dirs[key] = 'sim-reg/exported'\n",
    "\n",
    "with open('blur-net/model.ids.pickle', 'rb') as f:\n",
    "    catalog['blur'] = pickle.load(f)\n",
    "export_dirs['blur'] = 'blur-net/exported'\n",
    "\n",
    "with open('augmix/model.ids.pickle', 'rb') as f:\n",
    "    catalog['augmix'] = pickle.load(f)\n",
    "export_dirs['augmix'] = 'augmix/exported'\n",
    "\n",
    "model_pths = []\n",
    "for key in ['none', 'neural', 'shuffle', 'blur', 'augmix']:\n",
    "    for model_id in catalog[key]:\n",
    "        model_pths.append(f'{export_dirs[key]}/{model_id}.pt')\n",
    "print(f'{len(model_pths)} models to be tested')"
   ]
  },
  {
   "cell_type": "code",
   "execution_count": 3,
   "metadata": {},
   "outputs": [],
   "source": [
    "corruptions = [\n",
    "    'gaussian_noise', 'shot_noise', 'impulse_noise',\n",
    "    'defocus_blur', 'glass_blur', 'motion_blur', 'zoom_blur',\n",
    "    'snow', 'frost', 'fog', 'brightness',\n",
    "    'contrast', 'elastic_transform', 'pixelate', 'jpeg_compression',\n",
    "]\n",
    "\n",
    "search_spec = {\n",
    "    'model_pth': model_pths,\n",
    "    'corruption': corruptions,\n",
    "    'severity': [1, 2, 3, 4, 5],\n",
    "}\n",
    "\n",
    "with open('save/jobs/corruption_tests.pickle', 'wb') as f:\n",
    "    pickle.dump(search_spec, f)"
   ]
  },
  {
   "cell_type": "code",
   "execution_count": 4,
   "metadata": {},
   "outputs": [],
   "source": [
    "search_spec = {\n",
    "    'model_pth': model_pths,\n",
    "    'metric': ['L2', 'Linf'],\n",
    "    'name': ['PGD', 'BI', 'DF', 'BB'],\n",
    "}\n",
    "\n",
    "with open('save/jobs/adversarial_attacks.pickle', 'wb') as f:\n",
    "    pickle.dump(search_spec, f)"
   ]
  },
  {
   "cell_type": "code",
   "execution_count": 5,
   "metadata": {},
   "outputs": [],
   "source": [
    "search_spec = {\n",
    "    'model_pth': model_pths,\n",
    "    'k_idx': list(range(10)),\n",
    "    'l_idx': [0, 3, 6, 9, 12, 15],\n",
    "    'noise': [0, 0.02],\n",
    "    'alpha': [0, 0.01],\n",
    "}\n",
    "\n",
    "with open('save/jobs/image_reconstructions.pickle', 'wb') as f:\n",
    "    pickle.dump(search_spec, f)"
   ]
  }
 ],
 "metadata": {
  "kernelspec": {
   "display_name": "Python 3",
   "language": "python",
   "name": "python3"
  },
  "language_info": {
   "codemirror_mode": {
    "name": "ipython",
    "version": 3
   },
   "file_extension": ".py",
   "mimetype": "text/x-python",
   "name": "python",
   "nbconvert_exporter": "python",
   "pygments_lexer": "ipython3",
   "version": "3.8.0"
  }
 },
 "nbformat": 4,
 "nbformat_minor": 4
}
