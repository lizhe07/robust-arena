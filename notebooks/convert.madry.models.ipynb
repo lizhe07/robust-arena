{
 "cells": [
  {
   "cell_type": "code",
   "execution_count": 1,
   "id": "better-voluntary",
   "metadata": {},
   "outputs": [],
   "source": [
    "import torch\n",
    "\n",
    "m_id = '8d666219-bf60-42c8-a8a7-24311d9a6ec0'\n",
    "save_pth = 'save/models/CIFAR10-gray.ResNet18_base.pt'\n",
    "saved = torch.load(f'save/checkpoints/dir/{m_id}/checkpoint.pt.best')\n",
    "m_state_dict = saved['model']"
   ]
  },
  {
   "cell_type": "code",
   "execution_count": 2,
   "id": "identified-italian",
   "metadata": {},
   "outputs": [],
   "source": [
    "j_state_dict = {}\n",
    "\n",
    "for key in m_state_dict.keys():\n",
    "    if key.startswith('module.model'):\n",
    "        j_state_dict[key[13:]] = m_state_dict[key]"
   ]
  },
  {
   "cell_type": "code",
   "execution_count": 3,
   "id": "green-parallel",
   "metadata": {},
   "outputs": [
    {
     "data": {
      "text/plain": [
       "<All keys matched successfully>"
      ]
     },
     "execution_count": 3,
     "metadata": {},
     "output_type": "execute_result"
    }
   ],
   "source": [
    "from jarvis.models.resnet import resnet18\n",
    "\n",
    "model = resnet18(in_channels=1, conv0_kernel_size=3)\n",
    "model.load_state_dict(j_state_dict)"
   ]
  },
  {
   "cell_type": "code",
   "execution_count": 4,
   "id": "understanding-arbor",
   "metadata": {},
   "outputs": [],
   "source": [
    "from jarvis.vision import prepare_datasets\n",
    "from torch.utils.data import DataLoader\n",
    "\n",
    "dataset = prepare_datasets('CIFAR10', 'vision_datasets', to_grayscale=True)\n",
    "loader = DataLoader(dataset, batch_size=64)"
   ]
  },
  {
   "cell_type": "code",
   "execution_count": 5,
   "id": "detected-designer",
   "metadata": {},
   "outputs": [
    {
     "name": "stdout",
     "output_type": "stream",
     "text": [
      "acc: 92.14%\n"
     ]
    }
   ],
   "source": [
    "device = 'cuda'\n",
    "\n",
    "model.eval().to(device)\n",
    "counts = 0\n",
    "for images, labels in loader:\n",
    "    with torch.no_grad():\n",
    "        # logits = model(((images-0.5)/0.2).to(device)).cpu()\n",
    "        logits = model((images).to(device)).cpu()\n",
    "        _, predicts = logits.max(dim=1)\n",
    "    counts += (predicts==labels).sum()\n",
    "print('acc: {:.2%}'.format(counts/len(dataset)))"
   ]
  },
  {
   "cell_type": "code",
   "execution_count": 6,
   "id": "tough-prophet",
   "metadata": {},
   "outputs": [],
   "source": [
    "torch.save({\n",
    "    'task': 'CIFAR10',\n",
    "    'arch': 'ResNet18',\n",
    "    'model': model,\n",
    "    'acc': counts/len(dataset),\n",
    "}, save_pth)"
   ]
  }
 ],
 "metadata": {
  "kernelspec": {
   "display_name": "Python 3",
   "language": "python",
   "name": "python3"
  },
  "language_info": {
   "codemirror_mode": {
    "name": "ipython",
    "version": 3
   },
   "file_extension": ".py",
   "mimetype": "text/x-python",
   "name": "python",
   "nbconvert_exporter": "python",
   "pygments_lexer": "ipython3",
   "version": "3.8.0"
  }
 },
 "nbformat": 4,
 "nbformat_minor": 5
}
